{
 "cells": [
  {
   "cell_type": "code",
   "execution_count": 2,
   "metadata": {},
   "outputs": [],
   "source": [
    "import pandas as pd\n",
    "df = pd.read_csv('GoogleApps.csv')\n"
   ]
  },
  {
   "cell_type": "code",
   "execution_count": 3,
   "metadata": {},
   "outputs": [
    {
     "name": "stdout",
     "output_type": "stream",
     "text": [
      "<class 'pandas.core.frame.DataFrame'>\n",
      "RangeIndex: 7352 entries, 0 to 7351\n",
      "Data columns (total 12 columns):\n",
      " #   Column          Non-Null Count  Dtype  \n",
      "---  ------          --------------  -----  \n",
      " 0   App             7352 non-null   object \n",
      " 1   Category        7352 non-null   object \n",
      " 2   Rating          7352 non-null   float64\n",
      " 3   Reviews         7352 non-null   int64  \n",
      " 4   Size            7352 non-null   float64\n",
      " 5   Installs        7352 non-null   float64\n",
      " 6   Type            7352 non-null   object \n",
      " 7   Price           7352 non-null   float64\n",
      " 8   Content Rating  7352 non-null   object \n",
      " 9   Last Updated    7352 non-null   object \n",
      " 10  Current Ver     7352 non-null   object \n",
      " 11  Android Ver     7352 non-null   object \n",
      "dtypes: float64(4), int64(1), object(7)\n",
      "memory usage: 689.4+ KB\n",
      "None\n"
     ]
    }
   ],
   "source": [
    "print(df.info())"
   ]
  },
  {
   "cell_type": "code",
   "execution_count": 4,
   "metadata": {},
   "outputs": [
    {
     "data": {
      "text/html": [
       "<div>\n",
       "<style scoped>\n",
       "    .dataframe tbody tr th:only-of-type {\n",
       "        vertical-align: middle;\n",
       "    }\n",
       "\n",
       "    .dataframe tbody tr th {\n",
       "        vertical-align: top;\n",
       "    }\n",
       "\n",
       "    .dataframe thead th {\n",
       "        text-align: right;\n",
       "    }\n",
       "</style>\n",
       "<table border=\"1\" class=\"dataframe\">\n",
       "  <thead>\n",
       "    <tr style=\"text-align: right;\">\n",
       "      <th></th>\n",
       "      <th>Rating</th>\n",
       "      <th>Reviews</th>\n",
       "      <th>Size</th>\n",
       "      <th>Installs</th>\n",
       "      <th>Price</th>\n",
       "    </tr>\n",
       "  </thead>\n",
       "  <tbody>\n",
       "    <tr>\n",
       "      <th>count</th>\n",
       "      <td>7352.000000</td>\n",
       "      <td>7.352000e+03</td>\n",
       "      <td>7352.000000</td>\n",
       "      <td>7.352000e+03</td>\n",
       "      <td>7352.000000</td>\n",
       "    </tr>\n",
       "    <tr>\n",
       "      <th>mean</th>\n",
       "      <td>4.177775</td>\n",
       "      <td>3.034096e+05</td>\n",
       "      <td>22.769578</td>\n",
       "      <td>8.662313e+06</td>\n",
       "      <td>1.171476</td>\n",
       "    </tr>\n",
       "    <tr>\n",
       "      <th>std</th>\n",
       "      <td>0.544145</td>\n",
       "      <td>1.907619e+06</td>\n",
       "      <td>23.379472</td>\n",
       "      <td>5.132294e+07</td>\n",
       "      <td>17.835302</td>\n",
       "    </tr>\n",
       "    <tr>\n",
       "      <th>min</th>\n",
       "      <td>1.000000</td>\n",
       "      <td>1.000000e+00</td>\n",
       "      <td>0.008301</td>\n",
       "      <td>1.000000e+00</td>\n",
       "      <td>0.000000</td>\n",
       "    </tr>\n",
       "    <tr>\n",
       "      <th>25%</th>\n",
       "      <td>4.000000</td>\n",
       "      <td>1.017500e+02</td>\n",
       "      <td>5.100000</td>\n",
       "      <td>1.000000e+04</td>\n",
       "      <td>0.000000</td>\n",
       "    </tr>\n",
       "    <tr>\n",
       "      <th>50%</th>\n",
       "      <td>4.300000</td>\n",
       "      <td>2.212500e+03</td>\n",
       "      <td>14.000000</td>\n",
       "      <td>1.000000e+05</td>\n",
       "      <td>0.000000</td>\n",
       "    </tr>\n",
       "    <tr>\n",
       "      <th>75%</th>\n",
       "      <td>4.500000</td>\n",
       "      <td>3.860625e+04</td>\n",
       "      <td>33.000000</td>\n",
       "      <td>1.000000e+06</td>\n",
       "      <td>0.000000</td>\n",
       "    </tr>\n",
       "    <tr>\n",
       "      <th>max</th>\n",
       "      <td>5.000000</td>\n",
       "      <td>4.489389e+07</td>\n",
       "      <td>100.000000</td>\n",
       "      <td>1.000000e+09</td>\n",
       "      <td>400.000000</td>\n",
       "    </tr>\n",
       "  </tbody>\n",
       "</table>\n",
       "</div>"
      ],
      "text/plain": [
       "            Rating       Reviews         Size      Installs        Price\n",
       "count  7352.000000  7.352000e+03  7352.000000  7.352000e+03  7352.000000\n",
       "mean      4.177775  3.034096e+05    22.769578  8.662313e+06     1.171476\n",
       "std       0.544145  1.907619e+06    23.379472  5.132294e+07    17.835302\n",
       "min       1.000000  1.000000e+00     0.008301  1.000000e+00     0.000000\n",
       "25%       4.000000  1.017500e+02     5.100000  1.000000e+04     0.000000\n",
       "50%       4.300000  2.212500e+03    14.000000  1.000000e+05     0.000000\n",
       "75%       4.500000  3.860625e+04    33.000000  1.000000e+06     0.000000\n",
       "max       5.000000  4.489389e+07   100.000000  1.000000e+09   400.000000"
      ]
     },
     "execution_count": 4,
     "metadata": {},
     "output_type": "execute_result"
    }
   ],
   "source": [
    "df.describe()"
   ]
  },
  {
   "cell_type": "code",
   "execution_count": 8,
   "metadata": {},
   "outputs": [
    {
     "data": {
      "text/plain": [
       "4.25"
      ]
     },
     "execution_count": 8,
     "metadata": {},
     "output_type": "execute_result"
    }
   ],
   "source": [
    "df[(df['Price']> 20) & (df['Installs'] > 10000)]['Rating'].mean()"
   ]
  },
  {
   "cell_type": "code",
   "execution_count": 9,
   "metadata": {},
   "outputs": [
    {
     "data": {
      "text/plain": [
       "Category\n",
       "FAMILY                 1574\n",
       "GAME                    911\n",
       "TOOLS                   631\n",
       "MEDICAL                 318\n",
       "LIFESTYLE               275\n",
       "PERSONALIZATION         270\n",
       "FINANCE                 266\n",
       "BUSINESS                246\n",
       "SPORTS                  245\n",
       "PRODUCTIVITY            234\n",
       "PHOTOGRAPHY             231\n",
       "HEALTH_AND_FITNESS      216\n",
       "COMMUNICATION           206\n",
       "SHOPPING                176\n",
       "NEWS_AND_MAGAZINES      162\n",
       "TRAVEL_AND_LOCAL        159\n",
       "SOCIAL                  142\n",
       "BOOKS_AND_REFERENCE     142\n",
       "VIDEO_PLAYERS           114\n",
       "EDUCATION               108\n",
       "MAPS_AND_NAVIGATION      94\n",
       "FOOD_AND_DRINK           84\n",
       "ENTERTAINMENT            84\n",
       "AUTO_AND_VEHICLES        63\n",
       "LIBRARIES_AND_DEMO       61\n",
       "ART_AND_DESIGN           58\n",
       "HOUSE_AND_HOME           56\n",
       "WEATHER                  51\n",
       "PARENTING                43\n",
       "COMICS                   42\n",
       "EVENTS                   38\n",
       "BEAUTY                   36\n",
       "DATING                   16\n",
       "Name: count, dtype: int64"
      ]
     },
     "execution_count": 9,
     "metadata": {},
     "output_type": "execute_result"
    }
   ],
   "source": [
    "df['Category'].value_counts()"
   ]
  },
  {
   "cell_type": "code",
   "execution_count": 12,
   "metadata": {},
   "outputs": [
    {
     "name": "stdout",
     "output_type": "stream",
     "text": [
      "2.73\n"
     ]
    }
   ],
   "source": [
    "ten = df['Content Rating'].value_counts()\n",
    "print(round(ten['Teen'] / ten['Everyone 10+'], 2))"
   ]
  },
  {
   "cell_type": "code",
   "execution_count": 20,
   "metadata": {},
   "outputs": [
    {
     "name": "stdout",
     "output_type": "stream",
     "text": [
      "0.08\n"
     ]
    }
   ],
   "source": [
    "pad =round(df[df['Type'] == 'Paid']['Rating'].mean(),2)\n",
    "fre = round(df[df['Type'] == 'Free']['Rating'].mean(),2)\n",
    "print(round(pad - fre,2))"
   ]
  },
  {
   "cell_type": "code",
   "execution_count": 24,
   "metadata": {},
   "outputs": [
    {
     "data": {
      "text/plain": [
       "0.43"
      ]
     },
     "execution_count": 24,
     "metadata": {},
     "output_type": "execute_result"
    }
   ],
   "source": [
    "round(df[df['Category'] == 'COMICS']['Size'].min(),2)"
   ]
  },
  {
   "cell_type": "code",
   "execution_count": 26,
   "metadata": {},
   "outputs": [
    {
     "data": {
      "text/plain": [
       "App                                             Category  Rating  Reviews  Size       Installs   Type  Price  Content Rating  Last Updated       Current Ver  Android Ver \n",
       "AX Battery Saver                                FINANCE   4.6     4546     3.000000   100000.0   Free  0.0    Everyone        February 8, 2018   1.2.3        4.0 and up      1\n",
       "Alpha Bank CY                                   FINANCE   4.7     39       20.000000  1000.0     Free  0.0    Everyone        March 20, 2018     1.11         4.3 and up      1\n",
       "Everlance: Free Mileage Log                     FINANCE   4.7     7514     14.000000  100000.0   Free  0.0    Everyone        July 31, 2018      1.9.9.9.3    4.4 and up      1\n",
       "Exchange Bank - EB Mobile                       FINANCE   4.6     8        31.000000  1000.0     Free  0.0    Everyone        May 2, 2018        18.1.79      5.0 and up      1\n",
       "Experian - Free Credit Report                   FINANCE   4.6     23130    46.000000  1000000.0  Free  0.0    Everyone        July 12, 2018      2.1.4        4.2 and up      1\n",
       "                                                                                                                                                                             ..\n",
       "DN Calculators                                  FINANCE   5.0     12       0.756836   100.0      Free  0.0    Everyone        September 5, 2013  1.11         3.0 and up      1\n",
       "Discover Mobile                                 FINANCE   4.6     87951    68.000000  5000000.0  Free  0.0    Everyone        July 23, 2018      9.7.0        4.1 and up      1\n",
       "EC Tax                                          FINANCE   4.9     8        3.100000   500.0      Free  0.0    Everyone        February 9, 2018   1.2          4.0.3 and up    1\n",
       "EMI Calculator | FD Calculator | RD calculator  FINANCE   4.6     106      4.400000   10000.0    Free  0.0    Everyone        March 19, 2018     5.3          4.0.3 and up    1\n",
       "dt Pro                                          FINANCE   4.8     4        4.500000   1000.0     Free  0.0    Everyone        May 16, 2017       3.10         2.2 and up      1\n",
       "Name: count, Length: 64, dtype: int64"
      ]
     },
     "execution_count": 26,
     "metadata": {},
     "output_type": "execute_result"
    }
   ],
   "source": [
    "df[(df['Category'] == 'FINANCE')&(df['Rating'] > 4.5)].value_counts()"
   ]
  },
  {
   "cell_type": "code",
   "execution_count": 59,
   "metadata": {},
   "outputs": [
    {
     "data": {
      "text/html": [
       "<div>\n",
       "<style scoped>\n",
       "    .dataframe tbody tr th:only-of-type {\n",
       "        vertical-align: middle;\n",
       "    }\n",
       "\n",
       "    .dataframe tbody tr th {\n",
       "        vertical-align: top;\n",
       "    }\n",
       "\n",
       "    .dataframe thead th {\n",
       "        text-align: right;\n",
       "    }\n",
       "</style>\n",
       "<table border=\"1\" class=\"dataframe\">\n",
       "  <thead>\n",
       "    <tr style=\"text-align: right;\">\n",
       "      <th></th>\n",
       "      <th>min</th>\n",
       "      <th>mean</th>\n",
       "      <th>max</th>\n",
       "    </tr>\n",
       "    <tr>\n",
       "      <th>Type</th>\n",
       "      <th></th>\n",
       "      <th></th>\n",
       "      <th></th>\n",
       "    </tr>\n",
       "  </thead>\n",
       "  <tbody>\n",
       "    <tr>\n",
       "      <th>Free</th>\n",
       "      <td>1.0</td>\n",
       "      <td>4.17</td>\n",
       "      <td>5.0</td>\n",
       "    </tr>\n",
       "    <tr>\n",
       "      <th>Paid</th>\n",
       "      <td>1.0</td>\n",
       "      <td>4.25</td>\n",
       "      <td>5.0</td>\n",
       "    </tr>\n",
       "  </tbody>\n",
       "</table>\n",
       "</div>"
      ],
      "text/plain": [
       "      min  mean  max\n",
       "Type                \n",
       "Free  1.0  4.17  5.0\n",
       "Paid  1.0  4.25  5.0"
      ]
     },
     "execution_count": 59,
     "metadata": {},
     "output_type": "execute_result"
    }
   ],
   "source": [
    "round(df.groupby(by= 'Type')['Rating'].agg(['min','mean','max']),2)"
   ]
  },
  {
   "cell_type": "code",
   "execution_count": 60,
   "metadata": {},
   "outputs": [
    {
     "data": {
      "text/html": [
       "<div>\n",
       "<style scoped>\n",
       "    .dataframe tbody tr th:only-of-type {\n",
       "        vertical-align: middle;\n",
       "    }\n",
       "\n",
       "    .dataframe tbody tr th {\n",
       "        vertical-align: top;\n",
       "    }\n",
       "\n",
       "    .dataframe thead th {\n",
       "        text-align: right;\n",
       "    }\n",
       "</style>\n",
       "<table border=\"1\" class=\"dataframe\">\n",
       "  <thead>\n",
       "    <tr style=\"text-align: right;\">\n",
       "      <th></th>\n",
       "      <th>min</th>\n",
       "      <th>mean</th>\n",
       "      <th>max</th>\n",
       "    </tr>\n",
       "    <tr>\n",
       "      <th>Content Rating</th>\n",
       "      <th></th>\n",
       "      <th></th>\n",
       "      <th></th>\n",
       "    </tr>\n",
       "  </thead>\n",
       "  <tbody>\n",
       "    <tr>\n",
       "      <th>Everyone</th>\n",
       "      <td>0.0</td>\n",
       "      <td>1.273454</td>\n",
       "      <td>400.00</td>\n",
       "    </tr>\n",
       "    <tr>\n",
       "      <th>Everyone 10+</th>\n",
       "      <td>0.0</td>\n",
       "      <td>0.439371</td>\n",
       "      <td>19.99</td>\n",
       "    </tr>\n",
       "    <tr>\n",
       "      <th>Teen</th>\n",
       "      <td>0.0</td>\n",
       "      <td>0.715265</td>\n",
       "      <td>399.99</td>\n",
       "    </tr>\n",
       "  </tbody>\n",
       "</table>\n",
       "</div>"
      ],
      "text/plain": [
       "                min      mean     max\n",
       "Content Rating                       \n",
       "Everyone        0.0  1.273454  400.00\n",
       "Everyone 10+    0.0  0.439371   19.99\n",
       "Teen            0.0  0.715265  399.99"
      ]
     },
     "execution_count": 60,
     "metadata": {},
     "output_type": "execute_result"
    }
   ],
   "source": [
    "df.groupby(by='Content Rating')['Price'].agg(['min','mean','max'])"
   ]
  }
 ],
 "metadata": {
  "kernelspec": {
   "display_name": "Python 3",
   "language": "python",
   "name": "python3"
  },
  "language_info": {
   "codemirror_mode": {
    "name": "ipython",
    "version": 3
   },
   "file_extension": ".py",
   "mimetype": "text/x-python",
   "name": "python",
   "nbconvert_exporter": "python",
   "pygments_lexer": "ipython3",
   "version": "3.10.8"
  },
  "orig_nbformat": 4
 },
 "nbformat": 4,
 "nbformat_minor": 2
}
